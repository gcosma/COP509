{
  "nbformat": 4,
  "nbformat_minor": 0,
  "metadata": {
    "colab": {
      "provenance": [],
      "include_colab_link": true
    },
    "kernelspec": {
      "name": "python3",
      "display_name": "Python 3"
    }
  },
  "cells": [
    {
      "cell_type": "markdown",
      "metadata": {
        "id": "view-in-github",
        "colab_type": "text"
      },
      "source": [
        "<a href=\"https://colab.research.google.com/github/gcosma/COP509/blob/main/Tutorials/Tutorial4LSA.ipynb\" target=\"_parent\"><img src=\"https://colab.research.google.com/assets/colab-badge.svg\" alt=\"Open In Colab\"/></a>"
      ]
    },
    {
      "cell_type": "markdown",
      "metadata": {
        "id": "xFZyJ3CTsFZ5"
      },
      "source": [
        "\n",
        "# **Python Latent Semantic Analysis (LSA) Tutorial**\n",
        "\n"
      ]
    },
    {
      "cell_type": "markdown",
      "metadata": {
        "id": "zv_9sEP1GW7B"
      },
      "source": [
        "Import dependencies:"
      ]
    },
    {
      "cell_type": "code",
      "metadata": {
        "id": "wyW9T8YkChjM"
      },
      "source": [
        "from sklearn.decomposition import TruncatedSVD\n",
        "from scipy.sparse import rand\n",
        "from sklearn.metrics.pairwise import cosine_similarity\n",
        "from numpy import argsort\n",
        "import numpy as np"
      ],
      "execution_count": null,
      "outputs": []
    },
    {
      "cell_type": "markdown",
      "metadata": {
        "id": "QCwoB0vAGVpy"
      },
      "source": [
        "In this tutorial we assume that rows represent samples and columns are features according to sklearn.\n",
        "\n",
        "Generate a random binary 150x100 matrix (150 samples, 100 features):\n",
        "\n",
        "\n",
        "\n"
      ]
    },
    {
      "cell_type": "code",
      "metadata": {
        "id": "LlJM9sLOCTsx",
        "colab": {
          "base_uri": "https://localhost:8080/"
        },
        "outputId": "540ea539-f403-4c2c-c815-3ccceb67a151"
      },
      "source": [
        "B = rand(150, 100, density=0.3, format='csr')\n",
        "B.data[:] = 1\n",
        "print(\"B shape: \" + str(B.shape))\n",
        "print(B)"
      ],
      "execution_count": null,
      "outputs": [
        {
          "output_type": "stream",
          "name": "stdout",
          "text": [
            "B shape: (150, 100)\n",
            "  (0, 0)\t1.0\n",
            "  (0, 1)\t1.0\n",
            "  (0, 2)\t1.0\n",
            "  (0, 4)\t1.0\n",
            "  (0, 6)\t1.0\n",
            "  (0, 8)\t1.0\n",
            "  (0, 10)\t1.0\n",
            "  (0, 13)\t1.0\n",
            "  (0, 17)\t1.0\n",
            "  (0, 20)\t1.0\n",
            "  (0, 25)\t1.0\n",
            "  (0, 26)\t1.0\n",
            "  (0, 27)\t1.0\n",
            "  (0, 28)\t1.0\n",
            "  (0, 35)\t1.0\n",
            "  (0, 38)\t1.0\n",
            "  (0, 43)\t1.0\n",
            "  (0, 45)\t1.0\n",
            "  (0, 48)\t1.0\n",
            "  (0, 52)\t1.0\n",
            "  (0, 58)\t1.0\n",
            "  (0, 60)\t1.0\n",
            "  (0, 67)\t1.0\n",
            "  (0, 71)\t1.0\n",
            "  (0, 72)\t1.0\n",
            "  :\t:\n",
            "  (149, 33)\t1.0\n",
            "  (149, 37)\t1.0\n",
            "  (149, 39)\t1.0\n",
            "  (149, 43)\t1.0\n",
            "  (149, 44)\t1.0\n",
            "  (149, 48)\t1.0\n",
            "  (149, 49)\t1.0\n",
            "  (149, 52)\t1.0\n",
            "  (149, 53)\t1.0\n",
            "  (149, 54)\t1.0\n",
            "  (149, 57)\t1.0\n",
            "  (149, 61)\t1.0\n",
            "  (149, 64)\t1.0\n",
            "  (149, 65)\t1.0\n",
            "  (149, 67)\t1.0\n",
            "  (149, 68)\t1.0\n",
            "  (149, 72)\t1.0\n",
            "  (149, 74)\t1.0\n",
            "  (149, 75)\t1.0\n",
            "  (149, 76)\t1.0\n",
            "  (149, 87)\t1.0\n",
            "  (149, 88)\t1.0\n",
            "  (149, 89)\t1.0\n",
            "  (149, 92)\t1.0\n",
            "  (149, 98)\t1.0\n"
          ]
        }
      ]
    },
    {
      "cell_type": "markdown",
      "metadata": {
        "id": "9hOW2rUgGoM3"
      },
      "source": [
        "Generate a random binary query (1x100 vector):"
      ]
    },
    {
      "cell_type": "code",
      "metadata": {
        "id": "NHv5aq31FJ7O",
        "colab": {
          "base_uri": "https://localhost:8080/"
        },
        "outputId": "c2c0b852-e57d-4c18-a036-627d3baafe13"
      },
      "source": [
        "query = rand(1, 100, density=0.3, format='csr')\n",
        "query.data[:] = 1\n",
        "print(\"Query shape: \" + str(query.shape))\n",
        "print(query)"
      ],
      "execution_count": null,
      "outputs": [
        {
          "output_type": "stream",
          "name": "stdout",
          "text": [
            "Query shape: (1, 100)\n",
            "  (0, 2)\t1.0\n",
            "  (0, 5)\t1.0\n",
            "  (0, 6)\t1.0\n",
            "  (0, 8)\t1.0\n",
            "  (0, 9)\t1.0\n",
            "  (0, 10)\t1.0\n",
            "  (0, 11)\t1.0\n",
            "  (0, 15)\t1.0\n",
            "  (0, 16)\t1.0\n",
            "  (0, 17)\t1.0\n",
            "  (0, 24)\t1.0\n",
            "  (0, 29)\t1.0\n",
            "  (0, 31)\t1.0\n",
            "  (0, 32)\t1.0\n",
            "  (0, 34)\t1.0\n",
            "  (0, 37)\t1.0\n",
            "  (0, 41)\t1.0\n",
            "  (0, 46)\t1.0\n",
            "  (0, 47)\t1.0\n",
            "  (0, 48)\t1.0\n",
            "  (0, 52)\t1.0\n",
            "  (0, 70)\t1.0\n",
            "  (0, 73)\t1.0\n",
            "  (0, 80)\t1.0\n",
            "  (0, 85)\t1.0\n",
            "  (0, 87)\t1.0\n",
            "  (0, 88)\t1.0\n",
            "  (0, 90)\t1.0\n",
            "  (0, 93)\t1.0\n",
            "  (0, 97)\t1.0\n"
          ]
        }
      ]
    },
    {
      "cell_type": "markdown",
      "metadata": {
        "id": "M2CqPtQSHRR1"
      },
      "source": [
        "Generate the k-truncated B matrix using SVD decomposition:\n",
        "\n",
        "\n",
        "*   trunc_SVD_model is a TruncatedSVD object;\n",
        "*   fit_transform is a method of TruncatedSVD which computes the rank k SVD decomposition of B and the approximated B matrix;\n",
        "*   the SVD decomposition is saved into the trunc_SVD_model state.\n",
        "\n",
        "In this case k=5:"
      ]
    },
    {
      "cell_type": "code",
      "metadata": {
        "id": "pVZXtEO1Ek8O",
        "colab": {
          "base_uri": "https://localhost:8080/"
        },
        "outputId": "63154d8c-ab4a-49c0-c198-7e16c09b7242"
      },
      "source": [
        "trunc_SVD_model = TruncatedSVD(n_components=5)\n",
        "approx_B = trunc_SVD_model.fit_transform(B)\n",
        "print(\"Approximated B shape: \" + str(approx_B.shape))"
      ],
      "execution_count": null,
      "outputs": [
        {
          "output_type": "stream",
          "name": "stdout",
          "text": [
            "Approximated B shape: (150, 5)\n"
          ]
        }
      ]
    },
    {
      "cell_type": "markdown",
      "metadata": {
        "id": "gKBpnq85HQKL"
      },
      "source": [
        "Transform the query for the new B using the transform method of trunc_SVD_model:\n",
        "\n"
      ]
    },
    {
      "cell_type": "code",
      "metadata": {
        "id": "yGKy38KdGMd7",
        "colab": {
          "base_uri": "https://localhost:8080/"
        },
        "outputId": "e8c39ed9-f2cc-4907-899a-667e62300137"
      },
      "source": [
        "transformed_query = trunc_SVD_model.transform(query)\n",
        "print(\"Transformed query: \" + str(transformed_query))\n",
        "print(\"Query shape: \" + str(transformed_query.shape))\n",
        "print(transformed_query)"
      ],
      "execution_count": null,
      "outputs": [
        {
          "output_type": "stream",
          "name": "stdout",
          "text": [
            "Transformed query: [[ 2.92657792 -0.13633113  0.44262241 -0.07563084  0.50171465]]\n",
            "Query shape: (1, 5)\n",
            "[[ 2.92657792 -0.13633113  0.44262241 -0.07563084  0.50171465]]\n"
          ]
        }
      ]
    },
    {
      "cell_type": "markdown",
      "metadata": {
        "id": "1OsSbpUJIC4-"
      },
      "source": [
        "Compute cosine similarities between the transformed query and the column vectors of B:"
      ]
    },
    {
      "cell_type": "code",
      "metadata": {
        "id": "rVzZxVUyIOtl",
        "outputId": "0612a9f9-f321-4952-cb60-0750ceb00d89",
        "colab": {
          "base_uri": "https://localhost:8080/"
        }
      },
      "source": [
        "similarities = cosine_similarity(approx_B, transformed_query)\n",
        "print(\"Similarities shape: \" + str(similarities.shape))\n",
        "print(similarities)"
      ],
      "execution_count": null,
      "outputs": [
        {
          "output_type": "stream",
          "name": "stdout",
          "text": [
            "Similarities shape: (150, 1)\n",
            "[[0.8934839 ]\n",
            " [0.84462397]\n",
            " [0.80340683]\n",
            " [0.94575057]\n",
            " [0.96345244]\n",
            " [0.77970967]\n",
            " [0.90874733]\n",
            " [0.9182778 ]\n",
            " [0.97617859]\n",
            " [0.90687963]\n",
            " [0.94176384]\n",
            " [0.96686605]\n",
            " [0.88603408]\n",
            " [0.71063741]\n",
            " [0.88268144]\n",
            " [0.98725853]\n",
            " [0.89103844]\n",
            " [0.83972007]\n",
            " [0.76214606]\n",
            " [0.96489901]\n",
            " [0.73040484]\n",
            " [0.89806628]\n",
            " [0.87854962]\n",
            " [0.88574412]\n",
            " [0.84057716]\n",
            " [0.79710854]\n",
            " [0.93806154]\n",
            " [0.8795631 ]\n",
            " [0.7690248 ]\n",
            " [0.80258448]\n",
            " [0.86202563]\n",
            " [0.75742092]\n",
            " [0.81955435]\n",
            " [0.9123917 ]\n",
            " [0.91484657]\n",
            " [0.89147405]\n",
            " [0.98252963]\n",
            " [0.90050718]\n",
            " [0.83865397]\n",
            " [0.86750468]\n",
            " [0.89849733]\n",
            " [0.92581713]\n",
            " [0.88088155]\n",
            " [0.83986179]\n",
            " [0.77806228]\n",
            " [0.83426649]\n",
            " [0.81780456]\n",
            " [0.91516863]\n",
            " [0.80551264]\n",
            " [0.94092467]\n",
            " [0.89172797]\n",
            " [0.81355134]\n",
            " [0.91285809]\n",
            " [0.73249929]\n",
            " [0.91382419]\n",
            " [0.81668688]\n",
            " [0.79849338]\n",
            " [0.67257302]\n",
            " [0.95191962]\n",
            " [0.81024958]\n",
            " [0.998709  ]\n",
            " [0.82685278]\n",
            " [0.92723247]\n",
            " [0.92017889]\n",
            " [0.81241731]\n",
            " [0.94838725]\n",
            " [0.86837658]\n",
            " [0.79252057]\n",
            " [0.78354931]\n",
            " [0.85929911]\n",
            " [0.91409537]\n",
            " [0.81879247]\n",
            " [0.83341241]\n",
            " [0.92268665]\n",
            " [0.79366417]\n",
            " [0.87411515]\n",
            " [0.83525927]\n",
            " [0.90753732]\n",
            " [0.95455554]\n",
            " [0.85567466]\n",
            " [0.63783778]\n",
            " [0.9271543 ]\n",
            " [0.96421973]\n",
            " [0.76427193]\n",
            " [0.62292935]\n",
            " [0.69713496]\n",
            " [0.84186607]\n",
            " [0.84307999]\n",
            " [0.94511581]\n",
            " [0.85416543]\n",
            " [0.78718257]\n",
            " [0.81269654]\n",
            " [0.95525235]\n",
            " [0.82590937]\n",
            " [0.8983559 ]\n",
            " [0.94873462]\n",
            " [0.96518142]\n",
            " [0.75740026]\n",
            " [0.82639037]\n",
            " [0.84005044]\n",
            " [0.91554619]\n",
            " [0.92328898]\n",
            " [0.9128179 ]\n",
            " [0.94543456]\n",
            " [0.80342892]\n",
            " [0.89457948]\n",
            " [0.96354294]\n",
            " [0.85119906]\n",
            " [0.98972664]\n",
            " [0.90874016]\n",
            " [0.80739124]\n",
            " [0.74678188]\n",
            " [0.83707121]\n",
            " [0.90169577]\n",
            " [0.73900681]\n",
            " [0.79813741]\n",
            " [0.74182809]\n",
            " [0.94106531]\n",
            " [0.96816581]\n",
            " [0.79505448]\n",
            " [0.98489159]\n",
            " [0.86826388]\n",
            " [0.99338836]\n",
            " [0.75544162]\n",
            " [0.92412372]\n",
            " [0.89905218]\n",
            " [0.90154399]\n",
            " [0.95277589]\n",
            " [0.75002406]\n",
            " [0.82517165]\n",
            " [0.90710636]\n",
            " [0.8834341 ]\n",
            " [0.93963037]\n",
            " [0.84704093]\n",
            " [0.91229686]\n",
            " [0.84298189]\n",
            " [0.95618527]\n",
            " [0.91808746]\n",
            " [0.71950927]\n",
            " [0.85905702]\n",
            " [0.92240736]\n",
            " [0.8467287 ]\n",
            " [0.87674516]\n",
            " [0.94368556]\n",
            " [0.84918038]\n",
            " [0.85761295]\n",
            " [0.90546491]\n",
            " [0.96456613]\n",
            " [0.86807271]\n",
            " [0.8255595 ]]\n"
          ]
        }
      ]
    },
    {
      "cell_type": "markdown",
      "metadata": {
        "id": "ALJGZhxeNUXN"
      },
      "source": [
        "Let's take the indexes of the n most similarity documents:"
      ]
    },
    {
      "cell_type": "code",
      "metadata": {
        "id": "Ll1hZAtSNUhY",
        "colab": {
          "base_uri": "https://localhost:8080/"
        },
        "outputId": "124ed2d8-88d8-419a-cc9d-cfd6078c9a57"
      },
      "source": [
        "n=3\n",
        "indexes = np.argsort(similarities.flat)[-n:]\n",
        "print(\"Top n documents: \" + str(indexes))\n",
        "print(\"Top n similarities: \" + str(similarities.flat[indexes]))"
      ],
      "execution_count": null,
      "outputs": [
        {
          "output_type": "stream",
          "name": "stdout",
          "text": [
            "Top n documents: [108 122  60]\n",
            "Top n similarities: [0.98972664 0.99338836 0.998709  ]\n"
          ]
        }
      ]
    },
    {
      "cell_type": "markdown",
      "source": [
        "How to convert corpus to TFIDF:"
      ],
      "metadata": {
        "id": "o8_KcyzNfwcx"
      }
    },
    {
      "cell_type": "code",
      "source": [
        "from sklearn.feature_extraction.text import TfidfTransformer\n",
        "from sklearn.feature_extraction.text import CountVectorizer\n",
        "\n",
        "corpus = ['this is the first document',\n",
        "          'this document is the second document',\n",
        "          'and this is the third one',\n",
        "          'is this the first document']\n",
        "vocabulary = ['this', 'document', 'first', 'is', 'second', 'the',\n",
        "               'and', 'one']\n",
        "\n",
        "# use countVectorizer to compute word occurrence\n",
        "vectorizer = CountVectorizer(vocabulary=vocabulary)\n",
        "\n",
        "# transform the count matrix to a normalized tf-idf representation\n",
        "# Normalization is \"c\" (cosine) when ``norm='l2'``, \"n\" (none) when ``norm=None``\n",
        "transformer = TfidfTransformer(norm='l2')\n",
        "TFIDF = transformer.fit_transform(vectorizer.fit_transform(corpus))\n",
        "\n",
        "print(TFIDF.shape)\n",
        "print(TFIDF.toarray())"
      ],
      "metadata": {
        "colab": {
          "base_uri": "https://localhost:8080/"
        },
        "id": "xZk_Cppdf0Sk",
        "outputId": "5bc1b5b2-b149-41b5-eaac-f8ae70064868"
      },
      "execution_count": null,
      "outputs": [
        {
          "output_type": "stream",
          "name": "stdout",
          "text": [
            "(4, 8)\n",
            "[[0.38408524 0.46979139 0.58028582 0.38408524 0.         0.38408524\n",
            "  0.         0.        ]\n",
            " [0.28108867 0.6876236  0.         0.28108867 0.53864762 0.28108867\n",
            "  0.         0.        ]\n",
            " [0.31091996 0.         0.         0.31091996 0.         0.31091996\n",
            "  0.59581303 0.59581303]\n",
            " [0.38408524 0.46979139 0.58028582 0.38408524 0.         0.38408524\n",
            "  0.         0.        ]]\n"
          ]
        }
      ]
    }
  ]
}