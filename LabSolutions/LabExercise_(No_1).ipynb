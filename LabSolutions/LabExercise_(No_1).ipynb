{
  "nbformat": 4,
  "nbformat_minor": 0,
  "metadata": {
    "colab": {
      "provenance": [],
      "toc_visible": true,
      "include_colab_link": true
    },
    "kernelspec": {
      "name": "python3",
      "display_name": "Python 3"
    },
    "language_info": {
      "name": "python"
    }
  },
  "cells": [
    {
      "cell_type": "markdown",
      "metadata": {
        "id": "view-in-github",
        "colab_type": "text"
      },
      "source": [
        "<a href=\"https://colab.research.google.com/github/gcosma/COP509/blob/main/LabSolutions/LabExercise_(No_1).ipynb\" target=\"_parent\"><img src=\"https://colab.research.google.com/assets/colab-badge.svg\" alt=\"Open In Colab\"/></a>"
      ]
    },
    {
      "cell_type": "markdown",
      "metadata": {
        "id": "uedSt3uFFNSo"
      },
      "source": [
        "#**Lab Exercise (No. 1)**\n",
        "\n",
        "**Task Overview**\n",
        "\n",
        "1. Your task is to clean the Art Rating dataset that has been provided to you.Great if you can explore both manual and NLTK approaches."
      ]
    },
    {
      "cell_type": "markdown",
      "source": [
        "###***pre-work1: mount drive***"
      ],
      "metadata": {
        "id": "xEY7Yt-CCDPl"
      }
    },
    {
      "cell_type": "code",
      "metadata": {
        "id": "QjADNi1wIQRL",
        "colab": {
          "base_uri": "https://localhost:8080/"
        },
        "outputId": "112a77e1-ea1d-4782-dd76-683420ee3d0a"
      },
      "source": [
        "from google.colab import drive\n",
        "drive.mount('/content/drive')"
      ],
      "execution_count": null,
      "outputs": [
        {
          "output_type": "stream",
          "name": "stdout",
          "text": [
            "Drive already mounted at /content/drive; to attempt to forcibly remount, call drive.mount(\"/content/drive\", force_remount=True).\n"
          ]
        }
      ]
    },
    {
      "cell_type": "markdown",
      "source": [
        "###***pre-work2: set datasets***"
      ],
      "metadata": {
        "id": "2WlvTjP4FCtG"
      }
    },
    {
      "cell_type": "code",
      "source": [
        "data_path = \"/content/drive/My Drive/Colab Notebooks/21COP509/LabDatasets/\"\n",
        "!ls \"/content/drive/My Drive/Colab Notebooks/21COP509/LabDatasets/\"\n",
        "\n",
        "# select datasets\n",
        "datasets = 'Arts5000' # ArtsAll, Arts5000\n",
        "\n",
        "\n",
        "if datasets == 'ArtsAll':\n",
        "  # Arts all\n",
        "  data_all_reviews = 'ArtsReviews.txt'\n",
        "  data_all_ratings = 'ArtsRatings.txt'\n",
        "  data_train_reviews = 'ArtsReviews_train.txt'\n",
        "  data_test_reviews = 'ArtsReviews_test.txt'\n",
        "  data_train_ratings = 'ArtsRatings_train.txt'\n",
        "  data_test_ratings = 'ArtsRatings_test.txt'\n",
        "else:\n",
        "  # Arts 5000\n",
        "  data_all_reviews = 'Reduced_ArtsReviews_5000.txt'\n",
        "  data_all_ratings = 'Reduced_ArtsRatings_5000.txt'\n",
        "  data_train_reviews = 'ArtsReviews_5000_train.txt'\n",
        "  data_test_reviews = 'ArtsReviews_5000_test.txt'\n",
        "  data_train_ratings = 'ArtsRatings_5000_train.txt'\n",
        "  data_test_ratings = 'ArtsRatings_5000_test.txt'"
      ],
      "metadata": {
        "colab": {
          "base_uri": "https://localhost:8080/"
        },
        "id": "wKda1_u_FEM1",
        "outputId": "09097805-310f-4c97-d725-20293a87538c"
      },
      "execution_count": null,
      "outputs": [
        {
          "output_type": "stream",
          "name": "stdout",
          "text": [
            "ArtsRatings_5000_test.txt   ArtsReviews_5000_train.txt\tReduced_ArtsRatings_5000.txt\n",
            "ArtsRatings_5000_train.txt  glove.6B.100d.txt\t\tReduced_ArtsReviews_5000.txt\n",
            "ArtsReviews_5000_test.txt   metamorphosis_clean.txt\treview_polarity\n"
          ]
        }
      ]
    },
    {
      "cell_type": "markdown",
      "source": [
        "## **1. Tokenization and Cleaning with Manual**"
      ],
      "metadata": {
        "id": "ebbWKt_NCjoK"
      }
    },
    {
      "cell_type": "markdown",
      "metadata": {
        "id": "dOLLebn_RVlS"
      },
      "source": [
        "### ***1.1 Load Data***\n"
      ]
    },
    {
      "cell_type": "code",
      "metadata": {
        "id": "GtyaVjyrOq0l"
      },
      "source": [
        "#Load text\n",
        "file = open(data_path + data_all_reviews,'rt')\n",
        "text = file.read()\n",
        "file.close()"
      ],
      "execution_count": null,
      "outputs": []
    },
    {
      "cell_type": "markdown",
      "metadata": {
        "id": "CZXXelBVRvP5"
      },
      "source": [
        "### ***1.2. Split by Whitespace***\n"
      ]
    },
    {
      "cell_type": "code",
      "metadata": {
        "id": "vu1bQxIKFcL4",
        "colab": {
          "base_uri": "https://localhost:8080/"
        },
        "outputId": "02a1f8c5-37d5-4b6f-84ee-bff4d637ecd2"
      },
      "source": [
        "# split into words by white space\n",
        "words = text.split()\n",
        "print(words[:100])"
      ],
      "execution_count": null,
      "outputs": [
        {
          "output_type": "stream",
          "name": "stdout",
          "text": [
            "['I', 'found', 'the', 'product', 'to', 'be', 'overpriced.', 'This', 'is', 'a', 'good', 'idea,', 'but', 'not', 'worth', 'the', 'money.', 'The', 'box', 'was', 'a', 'different', 'color', 'than', 'pictured,', 'yellow.', 'The', 'stencils', 'are', 'thin', 'and', 'flimsy.', 'Quite', 'a', 'few', 'more', 'stencils', 'should', 'be', 'included', 'for', 'the', 'price', 'or', 'the', 'price', 'should', 'be', 'significantly', 'lower.', 'These', 'pliers', 'are', 'not', 'stainless', 'steel.', 'They', 'came', 'packed/coated', 'with', 'a', 'yellowish', 'oil,', 'like', 'mild', 'steel', 'tools', 'often', 'are.', 'The', 'description', \"didn't\", 'specify', 'the', 'materials', 'so', 'now', 'I', 'know', 'to', 'look', 'for', 'that.', 'The', 'manufacturers', 'box', 'that', 'they', 'were', 'delivered', 'in', 'had', 'the', 'word', '\"Stainless\"', 'before', 'Steel', 'scratched', 'off', 'with']\n"
          ]
        }
      ]
    },
    {
      "cell_type": "markdown",
      "metadata": {
        "id": "KjIQ8eJASaEY"
      },
      "source": [
        "### ***1.3. Select Words***\n",
        "\n",
        "Another approach might be to use the regex model (re) and split the document into words by selecting for strings of alphanumeric characters (a-z, A-Z, 0-9 and ‘_’)."
      ]
    },
    {
      "cell_type": "code",
      "metadata": {
        "id": "qw6Hz3ycFcWI",
        "colab": {
          "base_uri": "https://localhost:8080/"
        },
        "outputId": "fd0867ed-a792-49fe-e232-0b96449595d8"
      },
      "source": [
        "# split based on words only\n",
        "import re\n",
        "words = re.split(r'\\W+', text)\n",
        "print(words[:100])"
      ],
      "execution_count": null,
      "outputs": [
        {
          "output_type": "stream",
          "name": "stdout",
          "text": [
            "['I', 'found', 'the', 'product', 'to', 'be', 'overpriced', 'This', 'is', 'a', 'good', 'idea', 'but', 'not', 'worth', 'the', 'money', 'The', 'box', 'was', 'a', 'different', 'color', 'than', 'pictured', 'yellow', 'The', 'stencils', 'are', 'thin', 'and', 'flimsy', 'Quite', 'a', 'few', 'more', 'stencils', 'should', 'be', 'included', 'for', 'the', 'price', 'or', 'the', 'price', 'should', 'be', 'significantly', 'lower', 'These', 'pliers', 'are', 'not', 'stainless', 'steel', 'They', 'came', 'packed', 'coated', 'with', 'a', 'yellowish', 'oil', 'like', 'mild', 'steel', 'tools', 'often', 'are', 'The', 'description', 'didn', 't', 'specify', 'the', 'materials', 'so', 'now', 'I', 'know', 'to', 'look', 'for', 'that', 'The', 'manufacturers', 'box', 'that', 'they', 'were', 'delivered', 'in', 'had', 'the', 'word', 'Stainless', 'before', 'Steel', 'scratched']\n"
          ]
        }
      ]
    },
    {
      "cell_type": "markdown",
      "metadata": {
        "id": "kpyD11dSSEPr"
      },
      "source": [
        "### ***1.4. Split by Whitespace and Remove Punctuation***\n"
      ]
    },
    {
      "cell_type": "code",
      "metadata": {
        "id": "kda7O52cFkgZ",
        "colab": {
          "base_uri": "https://localhost:8080/"
        },
        "outputId": "f8035901-26e3-4df7-a733-dc5dcdc141d6"
      },
      "source": [
        "import string\n",
        "print(string.punctuation)"
      ],
      "execution_count": null,
      "outputs": [
        {
          "output_type": "stream",
          "name": "stdout",
          "text": [
            "!\"#$%&'()*+,-./:;<=>?@[\\]^_`{|}~\n"
          ]
        }
      ]
    },
    {
      "cell_type": "code",
      "metadata": {
        "id": "3Ym9m4tLFknY"
      },
      "source": [
        "table = str.maketrans('', '', string.punctuation)"
      ],
      "execution_count": null,
      "outputs": []
    },
    {
      "cell_type": "code",
      "metadata": {
        "colab": {
          "base_uri": "https://localhost:8080/"
        },
        "id": "4koK3pSnUtRL",
        "outputId": "34a76d17-c0e5-4f69-9f55-283c555f69c5"
      },
      "source": [
        "# load text\n",
        "file = open(data_path + data_all_reviews,'rt')\n",
        "text = file.read()\n",
        "file.close()\n",
        "# split into words by white space\n",
        "words = text.split()\n",
        "# remove punctuation from each word\n",
        "import string\n",
        "table = str.maketrans('', '', string.punctuation)\n",
        "stripped = [w.translate(table) for w in words]\n",
        "print(stripped[:100])"
      ],
      "execution_count": null,
      "outputs": [
        {
          "output_type": "stream",
          "name": "stdout",
          "text": [
            "['I', 'found', 'the', 'product', 'to', 'be', 'overpriced', 'This', 'is', 'a', 'good', 'idea', 'but', 'not', 'worth', 'the', 'money', 'The', 'box', 'was', 'a', 'different', 'color', 'than', 'pictured', 'yellow', 'The', 'stencils', 'are', 'thin', 'and', 'flimsy', 'Quite', 'a', 'few', 'more', 'stencils', 'should', 'be', 'included', 'for', 'the', 'price', 'or', 'the', 'price', 'should', 'be', 'significantly', 'lower', 'These', 'pliers', 'are', 'not', 'stainless', 'steel', 'They', 'came', 'packedcoated', 'with', 'a', 'yellowish', 'oil', 'like', 'mild', 'steel', 'tools', 'often', 'are', 'The', 'description', 'didnt', 'specify', 'the', 'materials', 'so', 'now', 'I', 'know', 'to', 'look', 'for', 'that', 'The', 'manufacturers', 'box', 'that', 'they', 'were', 'delivered', 'in', 'had', 'the', 'word', 'Stainless', 'before', 'Steel', 'scratched', 'off', 'with']\n"
          ]
        }
      ]
    },
    {
      "cell_type": "markdown",
      "metadata": {
        "id": "x3IhSjinTLpj"
      },
      "source": [
        "### ***1.5. Normalizing Case***\n"
      ]
    },
    {
      "cell_type": "code",
      "metadata": {
        "colab": {
          "base_uri": "https://localhost:8080/"
        },
        "id": "m7HVFhrrTOYa",
        "outputId": "539fc613-5300-4e1c-ea03-da063074e3bb"
      },
      "source": [
        "file = open(data_path + data_all_reviews,'rt')\n",
        "text = file.read()\n",
        "file.close()\n",
        "# split into words by white space\n",
        "words = text.split()\n",
        "# convert to lower case\n",
        "words = [word.lower() for word in words]\n",
        "print(words[:100])"
      ],
      "execution_count": null,
      "outputs": [
        {
          "output_type": "stream",
          "name": "stdout",
          "text": [
            "['i', 'found', 'the', 'product', 'to', 'be', 'overpriced.', 'this', 'is', 'a', 'good', 'idea,', 'but', 'not', 'worth', 'the', 'money.', 'the', 'box', 'was', 'a', 'different', 'color', 'than', 'pictured,', 'yellow.', 'the', 'stencils', 'are', 'thin', 'and', 'flimsy.', 'quite', 'a', 'few', 'more', 'stencils', 'should', 'be', 'included', 'for', 'the', 'price', 'or', 'the', 'price', 'should', 'be', 'significantly', 'lower.', 'these', 'pliers', 'are', 'not', 'stainless', 'steel.', 'they', 'came', 'packed/coated', 'with', 'a', 'yellowish', 'oil,', 'like', 'mild', 'steel', 'tools', 'often', 'are.', 'the', 'description', \"didn't\", 'specify', 'the', 'materials', 'so', 'now', 'i', 'know', 'to', 'look', 'for', 'that.', 'the', 'manufacturers', 'box', 'that', 'they', 'were', 'delivered', 'in', 'had', 'the', 'word', '\"stainless\"', 'before', 'steel', 'scratched', 'off', 'with']\n"
          ]
        }
      ]
    },
    {
      "cell_type": "markdown",
      "metadata": {
        "id": "GjikXZN_TUPz"
      },
      "source": [
        "## **2. Tokenization and Cleaning with NLTK**"
      ]
    },
    {
      "cell_type": "markdown",
      "metadata": {
        "id": "uyd-s3acTVjL"
      },
      "source": [
        "### ***2.1. Install NLTK***"
      ]
    },
    {
      "cell_type": "code",
      "metadata": {
        "id": "5HkNigfhTXyE",
        "colab": {
          "base_uri": "https://localhost:8080/"
        },
        "outputId": "f7a2cfac-6aa3-4cfe-f0b2-a8f75ce746e5"
      },
      "source": [
        "!pip install -U nltk"
      ],
      "execution_count": null,
      "outputs": [
        {
          "output_type": "stream",
          "name": "stdout",
          "text": [
            "Requirement already satisfied: nltk in /usr/local/lib/python3.11/dist-packages (3.9.1)\n",
            "Requirement already satisfied: click in /usr/local/lib/python3.11/dist-packages (from nltk) (8.1.8)\n",
            "Requirement already satisfied: joblib in /usr/local/lib/python3.11/dist-packages (from nltk) (1.4.2)\n",
            "Requirement already satisfied: regex>=2021.8.3 in /usr/local/lib/python3.11/dist-packages (from nltk) (2024.11.6)\n",
            "Requirement already satisfied: tqdm in /usr/local/lib/python3.11/dist-packages (from nltk) (4.67.1)\n"
          ]
        }
      ]
    },
    {
      "cell_type": "code",
      "metadata": {
        "colab": {
          "base_uri": "https://localhost:8080/"
        },
        "id": "ZWoyTaaLTeAz",
        "outputId": "1ab2167f-1a0b-478c-b656-34abd9624c88"
      },
      "source": [
        "import nltk;\n",
        "nltk.download('popular')\n",
        "nltk.download('punkt')\n",
        "nltk.download('punkt_tab')"
      ],
      "execution_count": null,
      "outputs": [
        {
          "output_type": "stream",
          "name": "stderr",
          "text": [
            "[nltk_data] Downloading collection 'popular'\n",
            "[nltk_data]    | \n",
            "[nltk_data]    | Downloading package cmudict to /root/nltk_data...\n",
            "[nltk_data]    |   Package cmudict is already up-to-date!\n",
            "[nltk_data]    | Downloading package gazetteers to /root/nltk_data...\n",
            "[nltk_data]    |   Package gazetteers is already up-to-date!\n",
            "[nltk_data]    | Downloading package genesis to /root/nltk_data...\n",
            "[nltk_data]    |   Package genesis is already up-to-date!\n",
            "[nltk_data]    | Downloading package gutenberg to /root/nltk_data...\n",
            "[nltk_data]    |   Package gutenberg is already up-to-date!\n",
            "[nltk_data]    | Downloading package inaugural to /root/nltk_data...\n",
            "[nltk_data]    |   Package inaugural is already up-to-date!\n",
            "[nltk_data]    | Downloading package movie_reviews to\n",
            "[nltk_data]    |     /root/nltk_data...\n",
            "[nltk_data]    |   Package movie_reviews is already up-to-date!\n",
            "[nltk_data]    | Downloading package names to /root/nltk_data...\n",
            "[nltk_data]    |   Package names is already up-to-date!\n",
            "[nltk_data]    | Downloading package shakespeare to /root/nltk_data...\n",
            "[nltk_data]    |   Package shakespeare is already up-to-date!\n",
            "[nltk_data]    | Downloading package stopwords to /root/nltk_data...\n",
            "[nltk_data]    |   Package stopwords is already up-to-date!\n",
            "[nltk_data]    | Downloading package treebank to /root/nltk_data...\n",
            "[nltk_data]    |   Package treebank is already up-to-date!\n",
            "[nltk_data]    | Downloading package twitter_samples to\n",
            "[nltk_data]    |     /root/nltk_data...\n",
            "[nltk_data]    |   Package twitter_samples is already up-to-date!\n",
            "[nltk_data]    | Downloading package omw to /root/nltk_data...\n",
            "[nltk_data]    |   Package omw is already up-to-date!\n",
            "[nltk_data]    | Downloading package omw-1.4 to /root/nltk_data...\n",
            "[nltk_data]    |   Package omw-1.4 is already up-to-date!\n",
            "[nltk_data]    | Downloading package wordnet to /root/nltk_data...\n",
            "[nltk_data]    |   Package wordnet is already up-to-date!\n",
            "[nltk_data]    | Downloading package wordnet2021 to /root/nltk_data...\n",
            "[nltk_data]    |   Package wordnet2021 is already up-to-date!\n",
            "[nltk_data]    | Downloading package wordnet31 to /root/nltk_data...\n",
            "[nltk_data]    |   Package wordnet31 is already up-to-date!\n",
            "[nltk_data]    | Downloading package wordnet_ic to /root/nltk_data...\n",
            "[nltk_data]    |   Package wordnet_ic is already up-to-date!\n",
            "[nltk_data]    | Downloading package words to /root/nltk_data...\n",
            "[nltk_data]    |   Package words is already up-to-date!\n",
            "[nltk_data]    | Downloading package maxent_ne_chunker to\n",
            "[nltk_data]    |     /root/nltk_data...\n",
            "[nltk_data]    |   Package maxent_ne_chunker is already up-to-date!\n",
            "[nltk_data]    | Downloading package punkt to /root/nltk_data...\n",
            "[nltk_data]    |   Package punkt is already up-to-date!\n",
            "[nltk_data]    | Downloading package snowball_data to\n",
            "[nltk_data]    |     /root/nltk_data...\n",
            "[nltk_data]    |   Package snowball_data is already up-to-date!\n",
            "[nltk_data]    | Downloading package averaged_perceptron_tagger to\n",
            "[nltk_data]    |     /root/nltk_data...\n",
            "[nltk_data]    |   Package averaged_perceptron_tagger is already up-\n",
            "[nltk_data]    |       to-date!\n",
            "[nltk_data]    | \n",
            "[nltk_data]  Done downloading collection popular\n",
            "[nltk_data] Downloading package punkt to /root/nltk_data...\n",
            "[nltk_data]   Package punkt is already up-to-date!\n",
            "[nltk_data] Downloading package punkt_tab to /root/nltk_data...\n",
            "[nltk_data]   Package punkt_tab is already up-to-date!\n"
          ]
        },
        {
          "output_type": "execute_result",
          "data": {
            "text/plain": [
              "True"
            ]
          },
          "metadata": {},
          "execution_count": 31
        }
      ]
    },
    {
      "cell_type": "markdown",
      "metadata": {
        "id": "_ujcMHTRTlXN"
      },
      "source": [
        "### ***2.2. Split into Sentences***"
      ]
    },
    {
      "cell_type": "code",
      "metadata": {
        "colab": {
          "base_uri": "https://localhost:8080/"
        },
        "id": "pbu-5tfPYlgw",
        "outputId": "6b1d8b36-e2b4-4c63-9a32-84992e9a4405"
      },
      "source": [
        "# load data\n",
        "file = open(data_path + data_all_reviews,'rt')\n",
        "text = file.read()\n",
        "file.close()\n",
        "# split into sentences\n",
        "from nltk import sent_tokenize\n",
        "sentences = sent_tokenize(text)\n",
        "print(sentences[0])"
      ],
      "execution_count": null,
      "outputs": [
        {
          "output_type": "stream",
          "name": "stdout",
          "text": [
            "I found the product to be overpriced.\n"
          ]
        }
      ]
    },
    {
      "cell_type": "markdown",
      "metadata": {
        "id": "cPcxQes-Tqwc"
      },
      "source": [
        "### ***2.3. Split into Words***\n"
      ]
    },
    {
      "cell_type": "code",
      "metadata": {
        "colab": {
          "base_uri": "https://localhost:8080/"
        },
        "id": "VhhH5EXeTsgi",
        "outputId": "579c3d3a-8b3b-45ef-a230-6b8790fd99f3"
      },
      "source": [
        "# load data\n",
        "file = open(data_path + data_all_reviews,'rt')\n",
        "text = file.read()\n",
        "file.close()\n",
        "# split into words\n",
        "from nltk.tokenize import word_tokenize\n",
        "tokens = word_tokenize(text)\n",
        "print(tokens[:100])"
      ],
      "execution_count": null,
      "outputs": [
        {
          "output_type": "stream",
          "name": "stdout",
          "text": [
            "['I', 'found', 'the', 'product', 'to', 'be', 'overpriced', '.', 'This', 'is', 'a', 'good', 'idea', ',', 'but', 'not', 'worth', 'the', 'money', '.', 'The', 'box', 'was', 'a', 'different', 'color', 'than', 'pictured', ',', 'yellow', '.', 'The', 'stencils', 'are', 'thin', 'and', 'flimsy', '.', 'Quite', 'a', 'few', 'more', 'stencils', 'should', 'be', 'included', 'for', 'the', 'price', 'or', 'the', 'price', 'should', 'be', 'significantly', 'lower', '.', 'These', 'pliers', 'are', 'not', 'stainless', 'steel', '.', 'They', 'came', 'packed/coated', 'with', 'a', 'yellowish', 'oil', ',', 'like', 'mild', 'steel', 'tools', 'often', 'are', '.', 'The', 'description', 'did', \"n't\", 'specify', 'the', 'materials', 'so', 'now', 'I', 'know', 'to', 'look', 'for', 'that', '.', 'The', 'manufacturers', 'box', 'that', 'they']\n"
          ]
        }
      ]
    },
    {
      "cell_type": "markdown",
      "metadata": {
        "id": "NKy-BnFUTv3V"
      },
      "source": [
        "### ***2.5. Filter out Stop Words (and Pipeline)***"
      ]
    },
    {
      "cell_type": "code",
      "metadata": {
        "colab": {
          "base_uri": "https://localhost:8080/"
        },
        "id": "Xis3MwRhTxUN",
        "outputId": "745d8038-0c0a-4720-c5a5-9cb82cecb10a"
      },
      "source": [
        "from nltk.corpus import stopwords\n",
        "stop_words = stopwords.words('english')\n",
        "print(stop_words)"
      ],
      "execution_count": null,
      "outputs": [
        {
          "output_type": "stream",
          "name": "stdout",
          "text": [
            "['i', 'me', 'my', 'myself', 'we', 'our', 'ours', 'ourselves', 'you', \"you're\", \"you've\", \"you'll\", \"you'd\", 'your', 'yours', 'yourself', 'yourselves', 'he', 'him', 'his', 'himself', 'she', \"she's\", 'her', 'hers', 'herself', 'it', \"it's\", 'its', 'itself', 'they', 'them', 'their', 'theirs', 'themselves', 'what', 'which', 'who', 'whom', 'this', 'that', \"that'll\", 'these', 'those', 'am', 'is', 'are', 'was', 'were', 'be', 'been', 'being', 'have', 'has', 'had', 'having', 'do', 'does', 'did', 'doing', 'a', 'an', 'the', 'and', 'but', 'if', 'or', 'because', 'as', 'until', 'while', 'of', 'at', 'by', 'for', 'with', 'about', 'against', 'between', 'into', 'through', 'during', 'before', 'after', 'above', 'below', 'to', 'from', 'up', 'down', 'in', 'out', 'on', 'off', 'over', 'under', 'again', 'further', 'then', 'once', 'here', 'there', 'when', 'where', 'why', 'how', 'all', 'any', 'both', 'each', 'few', 'more', 'most', 'other', 'some', 'such', 'no', 'nor', 'not', 'only', 'own', 'same', 'so', 'than', 'too', 'very', 's', 't', 'can', 'will', 'just', 'don', \"don't\", 'should', \"should've\", 'now', 'd', 'll', 'm', 'o', 're', 've', 'y', 'ain', 'aren', \"aren't\", 'couldn', \"couldn't\", 'didn', \"didn't\", 'doesn', \"doesn't\", 'hadn', \"hadn't\", 'hasn', \"hasn't\", 'haven', \"haven't\", 'isn', \"isn't\", 'ma', 'mightn', \"mightn't\", 'mustn', \"mustn't\", 'needn', \"needn't\", 'shan', \"shan't\", 'shouldn', \"shouldn't\", 'wasn', \"wasn't\", 'weren', \"weren't\", 'won', \"won't\", 'wouldn', \"wouldn't\"]\n"
          ]
        }
      ]
    },
    {
      "cell_type": "code",
      "metadata": {
        "colab": {
          "base_uri": "https://localhost:8080/"
        },
        "id": "hsKR2vv6T5tV",
        "outputId": "be4d2157-7f95-47bb-9c01-f162db0a75a0"
      },
      "source": [
        "# load data\n",
        "file = open(data_path + data_all_reviews,'rt')\n",
        "text = file.read()\n",
        "file.close()\n",
        "# split into words\n",
        "from nltk.tokenize import word_tokenize\n",
        "tokens = word_tokenize(text)\n",
        "# convert to lower case\n",
        "tokens = [w.lower() for w in tokens]\n",
        "# remove punctuation from each word\n",
        "import string\n",
        "table = str.maketrans('', '', string.punctuation)\n",
        "stripped = [w.translate(table) for w in tokens]\n",
        "# remove remaining tokens that are not alphabetic\n",
        "words = [word for word in stripped if word.isalpha()]\n",
        "# filter out stop words\n",
        "from nltk.corpus import stopwords\n",
        "stop_words = set(stopwords.words('english'))\n",
        "words = [w for w in words if not w in stop_words]\n",
        "print(words[:100])"
      ],
      "execution_count": null,
      "outputs": [
        {
          "output_type": "stream",
          "name": "stdout",
          "text": [
            "['found', 'product', 'overpriced', 'good', 'idea', 'worth', 'money', 'box', 'different', 'color', 'pictured', 'yellow', 'stencils', 'thin', 'flimsy', 'quite', 'stencils', 'included', 'price', 'price', 'significantly', 'lower', 'pliers', 'stainless', 'steel', 'came', 'packedcoated', 'yellowish', 'oil', 'like', 'mild', 'steel', 'tools', 'often', 'description', 'nt', 'specify', 'materials', 'know', 'look', 'manufacturers', 'box', 'delivered', 'word', 'stainless', 'steel', 'scratched', 'black', 'magic', 'marker', 'great', 'buy', 'glad', 'got', 'two', 'one', 'keep', 'home', 'one', 'take', 'vacation', 'still', 'problems', 'getting', 'upper', 'tension', 'correct', 'still', 'tight', 'keep', 'rethreading', 'machine', 'nt', 'found', 'problem', 'yet', 'velcro', 'bottom', 'would', 'stick', 'place', 'wanted', 'pulled', 'usually', 'took', 'think', 'got', 'one', 'sitting', 'shelf', 'weeks', 'card', 'applique', 'designs', 'skip', 'applique', 'steps', 'want', 'card', 'half']\n"
          ]
        }
      ]
    },
    {
      "cell_type": "markdown",
      "metadata": {
        "id": "WpZhAY1IT_BW"
      },
      "source": [
        "### ***2.6. Stem Words***\n"
      ]
    },
    {
      "cell_type": "code",
      "metadata": {
        "colab": {
          "base_uri": "https://localhost:8080/"
        },
        "id": "Wgdgdg1bUArF",
        "outputId": "bf4761b3-ce0d-4ffb-a17e-349a77e37008"
      },
      "source": [
        "# load data\n",
        "file = open(data_path + data_all_reviews,'rt')\n",
        "text = file.read()\n",
        "file.close()\n",
        "# split into words\n",
        "from nltk.tokenize import word_tokenize\n",
        "tokens = word_tokenize(text)\n",
        "# stemming of words\n",
        "from nltk.stem.porter import PorterStemmer\n",
        "porter = PorterStemmer()\n",
        "stemmed = [porter.stem(word) for word in tokens]\n",
        "print(stemmed[:100])"
      ],
      "execution_count": null,
      "outputs": [
        {
          "output_type": "stream",
          "name": "stdout",
          "text": [
            "['i', 'found', 'the', 'product', 'to', 'be', 'overpr', '.', 'thi', 'is', 'a', 'good', 'idea', ',', 'but', 'not', 'worth', 'the', 'money', '.', 'the', 'box', 'wa', 'a', 'differ', 'color', 'than', 'pictur', ',', 'yellow', '.', 'the', 'stencil', 'are', 'thin', 'and', 'flimsi', '.', 'quit', 'a', 'few', 'more', 'stencil', 'should', 'be', 'includ', 'for', 'the', 'price', 'or', 'the', 'price', 'should', 'be', 'significantli', 'lower', '.', 'these', 'plier', 'are', 'not', 'stainless', 'steel', '.', 'they', 'came', 'packed/co', 'with', 'a', 'yellowish', 'oil', ',', 'like', 'mild', 'steel', 'tool', 'often', 'are', '.', 'the', 'descript', 'did', \"n't\", 'specifi', 'the', 'materi', 'so', 'now', 'i', 'know', 'to', 'look', 'for', 'that', '.', 'the', 'manufactur', 'box', 'that', 'they']\n"
          ]
        }
      ]
    },
    {
      "cell_type": "code",
      "source": [
        "!jupyter nbconvert --tp pdf LabExerciseNo1.ipynb"
      ],
      "metadata": {
        "colab": {
          "base_uri": "https://localhost:8080/"
        },
        "id": "4t4bcqEug__2",
        "outputId": "4467416f-2997-4eae-8564-37cec92cb6d3"
      },
      "execution_count": null,
      "outputs": [
        {
          "output_type": "stream",
          "name": "stdout",
          "text": [
            "[NbConvertApp] WARNING | Unrecognized alias: 'tp', it will have no effect.\n",
            "[NbConvertApp] WARNING | pattern 'LabExerciseNo1.ipynb' matched no files\n",
            "This application is used to convert notebook files (*.ipynb)\n",
            "        to various other formats.\n",
            "\n",
            "        WARNING: THE COMMANDLINE INTERFACE MAY CHANGE IN FUTURE RELEASES.\n",
            "\n",
            "Options\n",
            "=======\n",
            "The options below are convenience aliases to configurable class-options,\n",
            "as listed in the \"Equivalent to\" description-line of the aliases.\n",
            "To see all configurable class-options for some <cmd>, use:\n",
            "    <cmd> --help-all\n",
            "\n",
            "--debug\n",
            "    set log level to logging.DEBUG (maximize logging output)\n",
            "    Equivalent to: [--Application.log_level=10]\n",
            "--show-config\n",
            "    Show the application's configuration (human-readable format)\n",
            "    Equivalent to: [--Application.show_config=True]\n",
            "--show-config-json\n",
            "    Show the application's configuration (json format)\n",
            "    Equivalent to: [--Application.show_config_json=True]\n",
            "--generate-config\n",
            "    generate default config file\n",
            "    Equivalent to: [--JupyterApp.generate_config=True]\n",
            "-y\n",
            "    Answer yes to any questions instead of prompting.\n",
            "    Equivalent to: [--JupyterApp.answer_yes=True]\n",
            "--execute\n",
            "    Execute the notebook prior to export.\n",
            "    Equivalent to: [--ExecutePreprocessor.enabled=True]\n",
            "--allow-errors\n",
            "    Continue notebook execution even if one of the cells throws an error and include the error message in the cell output (the default behaviour is to abort conversion). This flag is only relevant if '--execute' was specified, too.\n",
            "    Equivalent to: [--ExecutePreprocessor.allow_errors=True]\n",
            "--stdin\n",
            "    read a single notebook file from stdin. Write the resulting notebook with default basename 'notebook.*'\n",
            "    Equivalent to: [--NbConvertApp.from_stdin=True]\n",
            "--stdout\n",
            "    Write notebook output to stdout instead of files.\n",
            "    Equivalent to: [--NbConvertApp.writer_class=StdoutWriter]\n",
            "--inplace\n",
            "    Run nbconvert in place, overwriting the existing notebook (only\n",
            "            relevant when converting to notebook format)\n",
            "    Equivalent to: [--NbConvertApp.use_output_suffix=False --NbConvertApp.export_format=notebook --FilesWriter.build_directory=]\n",
            "--clear-output\n",
            "    Clear output of current file and save in place,\n",
            "            overwriting the existing notebook.\n",
            "    Equivalent to: [--NbConvertApp.use_output_suffix=False --NbConvertApp.export_format=notebook --FilesWriter.build_directory= --ClearOutputPreprocessor.enabled=True]\n",
            "--coalesce-streams\n",
            "    Coalesce consecutive stdout and stderr outputs into one stream (within each cell).\n",
            "    Equivalent to: [--NbConvertApp.use_output_suffix=False --NbConvertApp.export_format=notebook --FilesWriter.build_directory= --CoalesceStreamsPreprocessor.enabled=True]\n",
            "--no-prompt\n",
            "    Exclude input and output prompts from converted document.\n",
            "    Equivalent to: [--TemplateExporter.exclude_input_prompt=True --TemplateExporter.exclude_output_prompt=True]\n",
            "--no-input\n",
            "    Exclude input cells and output prompts from converted document.\n",
            "            This mode is ideal for generating code-free reports.\n",
            "    Equivalent to: [--TemplateExporter.exclude_output_prompt=True --TemplateExporter.exclude_input=True --TemplateExporter.exclude_input_prompt=True]\n",
            "--allow-chromium-download\n",
            "    Whether to allow downloading chromium if no suitable version is found on the system.\n",
            "    Equivalent to: [--WebPDFExporter.allow_chromium_download=True]\n",
            "--disable-chromium-sandbox\n",
            "    Disable chromium security sandbox when converting to PDF..\n",
            "    Equivalent to: [--WebPDFExporter.disable_sandbox=True]\n",
            "--show-input\n",
            "    Shows code input. This flag is only useful for dejavu users.\n",
            "    Equivalent to: [--TemplateExporter.exclude_input=False]\n",
            "--embed-images\n",
            "    Embed the images as base64 dataurls in the output. This flag is only useful for the HTML/WebPDF/Slides exports.\n",
            "    Equivalent to: [--HTMLExporter.embed_images=True]\n",
            "--sanitize-html\n",
            "    Whether the HTML in Markdown cells and cell outputs should be sanitized..\n",
            "    Equivalent to: [--HTMLExporter.sanitize_html=True]\n",
            "--log-level=<Enum>\n",
            "    Set the log level by value or name.\n",
            "    Choices: any of [0, 10, 20, 30, 40, 50, 'DEBUG', 'INFO', 'WARN', 'ERROR', 'CRITICAL']\n",
            "    Default: 30\n",
            "    Equivalent to: [--Application.log_level]\n",
            "--config=<Unicode>\n",
            "    Full path of a config file.\n",
            "    Default: ''\n",
            "    Equivalent to: [--JupyterApp.config_file]\n",
            "--to=<Unicode>\n",
            "    The export format to be used, either one of the built-in formats\n",
            "            ['asciidoc', 'custom', 'html', 'latex', 'markdown', 'notebook', 'pdf', 'python', 'qtpdf', 'qtpng', 'rst', 'script', 'slides', 'webpdf']\n",
            "            or a dotted object name that represents the import path for an\n",
            "            ``Exporter`` class\n",
            "    Default: ''\n",
            "    Equivalent to: [--NbConvertApp.export_format]\n",
            "--template=<Unicode>\n",
            "    Name of the template to use\n",
            "    Default: ''\n",
            "    Equivalent to: [--TemplateExporter.template_name]\n",
            "--template-file=<Unicode>\n",
            "    Name of the template file to use\n",
            "    Default: None\n",
            "    Equivalent to: [--TemplateExporter.template_file]\n",
            "--theme=<Unicode>\n",
            "    Template specific theme(e.g. the name of a JupyterLab CSS theme distributed\n",
            "    as prebuilt extension for the lab template)\n",
            "    Default: 'light'\n",
            "    Equivalent to: [--HTMLExporter.theme]\n",
            "--sanitize_html=<Bool>\n",
            "    Whether the HTML in Markdown cells and cell outputs should be sanitized.This\n",
            "    should be set to True by nbviewer or similar tools.\n",
            "    Default: False\n",
            "    Equivalent to: [--HTMLExporter.sanitize_html]\n",
            "--writer=<DottedObjectName>\n",
            "    Writer class used to write the\n",
            "                                        results of the conversion\n",
            "    Default: 'FilesWriter'\n",
            "    Equivalent to: [--NbConvertApp.writer_class]\n",
            "--post=<DottedOrNone>\n",
            "    PostProcessor class used to write the\n",
            "                                        results of the conversion\n",
            "    Default: ''\n",
            "    Equivalent to: [--NbConvertApp.postprocessor_class]\n",
            "--output=<Unicode>\n",
            "    Overwrite base name use for output files.\n",
            "                Supports pattern replacements '{notebook_name}'.\n",
            "    Default: '{notebook_name}'\n",
            "    Equivalent to: [--NbConvertApp.output_base]\n",
            "--output-dir=<Unicode>\n",
            "    Directory to write output(s) to. Defaults\n",
            "                                  to output to the directory of each notebook. To recover\n",
            "                                  previous default behaviour (outputting to the current\n",
            "                                  working directory) use . as the flag value.\n",
            "    Default: ''\n",
            "    Equivalent to: [--FilesWriter.build_directory]\n",
            "--reveal-prefix=<Unicode>\n",
            "    The URL prefix for reveal.js (version 3.x).\n",
            "            This defaults to the reveal CDN, but can be any url pointing to a copy\n",
            "            of reveal.js.\n",
            "            For speaker notes to work, this must be a relative path to a local\n",
            "            copy of reveal.js: e.g., \"reveal.js\".\n",
            "            If a relative path is given, it must be a subdirectory of the\n",
            "            current directory (from which the server is run).\n",
            "            See the usage documentation\n",
            "            (https://nbconvert.readthedocs.io/en/latest/usage.html#reveal-js-html-slideshow)\n",
            "            for more details.\n",
            "    Default: ''\n",
            "    Equivalent to: [--SlidesExporter.reveal_url_prefix]\n",
            "--nbformat=<Enum>\n",
            "    The nbformat version to write.\n",
            "            Use this to downgrade notebooks.\n",
            "    Choices: any of [1, 2, 3, 4]\n",
            "    Default: 4\n",
            "    Equivalent to: [--NotebookExporter.nbformat_version]\n",
            "\n",
            "Examples\n",
            "--------\n",
            "\n",
            "    The simplest way to use nbconvert is\n",
            "\n",
            "            > jupyter nbconvert mynotebook.ipynb --to html\n",
            "\n",
            "            Options include ['asciidoc', 'custom', 'html', 'latex', 'markdown', 'notebook', 'pdf', 'python', 'qtpdf', 'qtpng', 'rst', 'script', 'slides', 'webpdf'].\n",
            "\n",
            "            > jupyter nbconvert --to latex mynotebook.ipynb\n",
            "\n",
            "            Both HTML and LaTeX support multiple output templates. LaTeX includes\n",
            "            'base', 'article' and 'report'.  HTML includes 'basic', 'lab' and\n",
            "            'classic'. You can specify the flavor of the format used.\n",
            "\n",
            "            > jupyter nbconvert --to html --template lab mynotebook.ipynb\n",
            "\n",
            "            You can also pipe the output to stdout, rather than a file\n",
            "\n",
            "            > jupyter nbconvert mynotebook.ipynb --stdout\n",
            "\n",
            "            PDF is generated via latex\n",
            "\n",
            "            > jupyter nbconvert mynotebook.ipynb --to pdf\n",
            "\n",
            "            You can get (and serve) a Reveal.js-powered slideshow\n",
            "\n",
            "            > jupyter nbconvert myslides.ipynb --to slides --post serve\n",
            "\n",
            "            Multiple notebooks can be given at the command line in a couple of\n",
            "            different ways:\n",
            "\n",
            "            > jupyter nbconvert notebook*.ipynb\n",
            "            > jupyter nbconvert notebook1.ipynb notebook2.ipynb\n",
            "\n",
            "            or you can specify the notebooks list in a config file, containing::\n",
            "\n",
            "                c.NbConvertApp.notebooks = [\"my_notebook.ipynb\"]\n",
            "\n",
            "            > jupyter nbconvert --config mycfg.py\n",
            "\n",
            "To see all available configurables, use `--help-all`.\n",
            "\n"
          ]
        }
      ]
    }
  ]
}